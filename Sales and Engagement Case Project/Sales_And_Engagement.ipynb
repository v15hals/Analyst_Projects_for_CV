{
  "cells": [
    {
      "cell_type": "markdown",
      "metadata": {
        "id": "l2hipg_8xnn-"
      },
      "source": [
        "Data Preprocessing"
      ]
    },
    {
      "cell_type": "code",
      "execution_count": null,
      "metadata": {
        "colab": {
          "base_uri": "https://localhost:8080/",
          "height": 228
        },
        "id": "lh_cCsFNg-Fc",
        "outputId": "53b5e500-7b1d-4a80-919b-158c192fe2a5"
      },
      "outputs": [],
      "source": [
        "# Convert status_published to datetime\n",
        "facebook_data['status_published'] = pd.to_datetime(facebook_data['status_published'], format='%m/%d/%Y %H:%M')\n",
        "\n",
        "# Drop unnecessary columns\n",
        "facebook_data.drop(columns=['Column1', 'Column2', 'Column3', 'Column4'], inplace=True)\n",
        "\n",
        "# Handle missing values (if any)\n",
        "facebook_data.dropna(inplace=True)\n",
        "\n",
        "# Verify the preprocessing steps\n",
        "facebook_data.info(), facebook_data.head()\n"
      ]
    },
    {
      "cell_type": "markdown",
      "metadata": {
        "id": "Reh-pL7VxujX"
      },
      "source": [
        "Analyzing Effect of Time on Reactions"
      ]
    },
    {
      "cell_type": "code",
      "execution_count": null,
      "metadata": {
        "id": "yHKHkhraxmWi"
      },
      "outputs": [],
      "source": [
        "import matplotlib.pyplot as plt\n",
        "\n",
        "# Extract hour from status_published\n",
        "facebook_data['hour_published'] = facebook_data['status_published'].dt.hour\n",
        "\n",
        "# Group by hour and calculate the mean number of reactions\n",
        "hourly_reactions = facebook_data.groupby('hour_published')['num_reactions'].mean()\n",
        "\n",
        "# Plot the mean number of reactions by hour\n",
        "plt.figure(figsize=(12, 6))\n",
        "hourly_reactions.plot(kind='bar')\n",
        "plt.title('Average Number of Reactions by Hour of the Day')\n",
        "plt.xlabel('Hour of the Day')\n",
        "plt.ylabel('Average Number of Reactions')\n",
        "plt.xticks(rotation=0)\n",
        "plt.show()\n"
      ]
    },
    {
      "cell_type": "markdown",
      "metadata": {
        "id": "OtTsPiBKx8bc"
      },
      "source": [
        "Correlation Analysis"
      ]
    },
    {
      "cell_type": "code",
      "execution_count": null,
      "metadata": {
        "id": "_E29QXjYyDK6"
      },
      "outputs": [],
      "source": [
        "# Calculate correlation matrix\n",
        "correlation_matrix = facebook_data[['num_reactions', 'num_comments', 'num_shares']].corr()\n",
        "\n",
        "# Display the correlation matrix\n",
        "correlation_matrix\n"
      ]
    },
    {
      "cell_type": "markdown",
      "metadata": {
        "id": "tkVui_-syHJq"
      },
      "source": [
        "K-Means Clustering"
      ]
    },
    {
      "cell_type": "code",
      "execution_count": null,
      "metadata": {
        "id": "4QqkEf7WyGxT"
      },
      "outputs": [],
      "source": [
        "from sklearn.cluster import KMeans\n",
        "from sklearn.preprocessing import StandardScaler\n",
        "\n",
        "# Select columns for clustering\n",
        "clustering_data = facebook_data[['status_type', 'num_reactions', 'num_comments', 'num_shares',\n",
        "                                 'num_likes', 'num_loves', 'num_wows', 'num_hahas', 'num_sads', 'num_angrys']]\n",
        "\n",
        "# One-hot encode the status_type column\n",
        "clustering_data = pd.get_dummies(clustering_data, columns=['status_type'])\n",
        "\n",
        "# Standardize the data\n",
        "scaler = StandardScaler()\n",
        "clustering_data_scaled = scaler.fit_transform(clustering_data)\n",
        "\n",
        "# Use the elbow method to find the optimal number of clusters\n",
        "sse = []\n",
        "for k in range(1, 11):\n",
        "    kmeans = KMeans(n_clusters=k, random_state=42)\n",
        "    kmeans.fit(clustering_data_scaled)\n",
        "    sse.append(kmeans.inertia_)\n",
        "\n",
        "# Plot the elbow graph\n",
        "plt.figure(figsize=(12, 6))\n",
        "plt.plot(range(1, 11), sse, marker='o')\n",
        "plt.title('Elbow Method For Optimal k')\n",
        "plt.xlabel('Number of Clusters')\n",
        "plt.ylabel('Sum of Squared Distances')\n",
        "plt.show()\n"
      ]
    },
    {
      "cell_type": "markdown",
      "metadata": {
        "id": "iGIV8moKyNNF"
      },
      "source": [
        "Count of Different Types of Posts"
      ]
    },
    {
      "cell_type": "code",
      "execution_count": null,
      "metadata": {
        "id": "1vMUlAyYyP4H"
      },
      "outputs": [],
      "source": [
        "# Count the different types of posts\n",
        "post_type_counts = facebook_data['status_type'].value_counts()\n",
        "\n",
        "# Display the post type counts\n",
        "post_type_counts\n"
      ]
    },
    {
      "cell_type": "markdown",
      "metadata": {
        "id": "uPQx8kzeyR-E"
      },
      "source": [
        "Average Engagement Metrics for Each Post Type"
      ]
    },
    {
      "cell_type": "code",
      "execution_count": null,
      "metadata": {
        "id": "qbPqwTCpyU4f"
      },
      "outputs": [],
      "source": [
        "# Calculate the average engagement metrics for each post type\n",
        "average_metrics = facebook_data.groupby('status_type')[['num_reactions', 'num_comments', 'num_shares']].mean()\n",
        "\n",
        "# Display the average engagement metrics\n",
        "average_metrics\n"
      ]
    },
    {
      "cell_type": "markdown",
      "metadata": {
        "id": "_kLHPbpFydiB"
      },
      "source": [
        "We'll start with data preprocessing"
      ]
    },
    {
      "cell_type": "code",
      "execution_count": null,
      "metadata": {
        "id": "28WrRYOfyesp"
      },
      "outputs": [],
      "source": [
        "import pandas as pd\n",
        "\n",
        "# Load the dataset\n",
        "file_path = '/mnt/data/Facebook_Marketplace_data.csv'\n",
        "facebook_data = pd.read_csv(file_path)\n",
        "\n",
        "# Display the first few rows of the dataset\n",
        "facebook_data.head()\n"
      ]
    },
    {
      "cell_type": "markdown",
      "metadata": {
        "id": "L2WqxLQAyn59"
      },
      "source": [
        "The dataset has been successfully preprocessed. Next, we will analyze how the time of upload (status_published) affects the number of reactions (num_reactions).\n",
        "\n",
        "Analyzing Effect of Time on Reactions\n",
        "Extract the hour from the status_published column.\n",
        "Group by hour and calculate the mean number of reactions.\n",
        "Plot the mean number of reactions by hour of the day.\n",
        "Let's proceed with this analysis"
      ]
    },
    {
      "cell_type": "code",
      "execution_count": null,
      "metadata": {
        "id": "6qxp6hMLykU0"
      },
      "outputs": [],
      "source": [
        "import matplotlib.pyplot as plt\n",
        "\n",
        "# Extract hour from status_published\n",
        "facebook_data['hour_published'] = facebook_data['status_published'].dt.hour\n",
        "\n",
        "# Group by hour and calculate the mean number of reactions\n",
        "hourly_reactions = facebook_data.groupby('hour_published')['num_reactions'].mean()\n",
        "\n",
        "# Plot the mean number of reactions by hour\n",
        "plt.figure(figsize=(12, 6))\n",
        "hourly_reactions.plot(kind='bar')\n",
        "plt.title('Average Number of Reactions by Hour of the Day')\n",
        "plt.xlabel('Hour of the Day')\n",
        "plt.ylabel('Average Number of Reactions')\n",
        "plt.xticks(rotation=0)\n",
        "plt.show()\n"
      ]
    },
    {
      "cell_type": "markdown",
      "metadata": {
        "id": "nmEtwu7myswX"
      },
      "source": [
        "Correlation Analysis"
      ]
    },
    {
      "cell_type": "code",
      "execution_count": null,
      "metadata": {
        "id": "btH-5ykJywFm"
      },
      "outputs": [],
      "source": [
        "# Calculate correlation matrix\n",
        "correlation_matrix = facebook_data[['num_reactions', 'num_comments', 'num_shares']].corr()\n",
        "\n",
        "# Display the correlation matrix\n",
        "correlation_matrix\n"
      ]
    },
    {
      "cell_type": "markdown",
      "metadata": {
        "id": "D3zUba1hyykB"
      },
      "source": [
        "Implementing these steps"
      ]
    },
    {
      "cell_type": "code",
      "execution_count": null,
      "metadata": {
        "id": "VMH-1iLry19M"
      },
      "outputs": [],
      "source": [
        "# Data Preprocessing\n",
        "\n",
        "# Convert status_published to datetime\n",
        "facebook_data['status_published'] = pd.to_datetime(facebook_data['status_published'], format='%m/%d/%Y %H:%M')\n",
        "\n",
        "# Drop unnecessary columns\n",
        "facebook_data.drop(columns=['Column1', 'Column2', 'Column3', 'Column4'], inplace=True)\n",
        "\n",
        "# Handle missing values (if any)\n",
        "facebook_data.dropna(inplace=True)\n",
        "\n",
        "# Verify the preprocessing steps\n",
        "preprocessed_info = facebook_data.info()\n",
        "preprocessed_head = facebook_data.head()\n",
        "\n",
        "preprocessed_info, preprocessed_head\n"
      ]
    },
    {
      "cell_type": "markdown",
      "metadata": {
        "id": "Oh2iMQdezFYm"
      },
      "source": [
        "\n",
        "Correlation Analysis\n",
        "Next, we will calculate the correlation between the number of reactions (num_reactions), comments (num_comments), and shares (num_shares)."
      ]
    },
    {
      "cell_type": "code",
      "execution_count": null,
      "metadata": {
        "id": "5BrVE7WQzKSa"
      },
      "outputs": [],
      "source": [
        "# Calculate correlation matrix\n",
        "correlation_matrix = facebook_data[['num_reactions', 'num_comments', 'num_shares']].corr()\n",
        "\n",
        "# Display the correlation matrix\n",
        "correlation_matrix\n"
      ]
    },
    {
      "cell_type": "markdown",
      "metadata": {
        "id": "wUrBohpgzRzV"
      },
      "source": [
        "Let's proceed with this correlation analysis."
      ]
    },
    {
      "cell_type": "code",
      "execution_count": null,
      "metadata": {
        "id": "lpeGAkXgzYmQ"
      },
      "outputs": [],
      "source": [
        "# Analyzing Effect of Time on Reactions\n",
        "\n",
        "import matplotlib.pyplot as plt\n",
        "\n",
        "# Extract hour from status_published\n",
        "facebook_data['hour_published'] = facebook_data['status_published'].dt.hour\n",
        "\n",
        "# Group by hour and calculate the mean number of reactions\n",
        "hourly_reactions = facebook_data.groupby('hour_published')['num_reactions'].mean()\n",
        "\n",
        "# Plot the mean number of reactions by hour\n",
        "plt.figure(figsize=(12, 6))\n",
        "hourly_reactions.plot(kind='bar')\n",
        "plt.title('Average Number of Reactions by Hour of the Day')\n",
        "plt.xlabel('Hour of the Day')\n",
        "plt.ylabel('Average Number of Reactions')\n",
        "plt.xticks(rotation=0)\n",
        "plt.show()\n"
      ]
    },
    {
      "cell_type": "code",
      "execution_count": null,
      "metadata": {
        "id": "t_FhrXcazhI5"
      },
      "outputs": [],
      "source": [
        "# Calculate correlation matrix\n",
        "correlation_matrix = facebook_data[['num_reactions', 'num_comments', 'num_shares']].corr()\n",
        "\n",
        "# Display the correlation matrix\n",
        "print(correlation_matrix)\n"
      ]
    }
  ],
  "metadata": {
    "colab": {
      "provenance": []
    },
    "kernelspec": {
      "display_name": "Python 3",
      "name": "python3"
    },
    "language_info": {
      "name": "python"
    }
  },
  "nbformat": 4,
  "nbformat_minor": 0
}
